{
 "cells": [
  {
   "cell_type": "code",
   "execution_count": null,
   "metadata": {},
   "outputs": [],
   "source": [
    "import os\n",
    "from dask_gateway import Gateway\n",
    "from cloudless_mosaic.app import main"
   ]
  },
  {
   "cell_type": "code",
   "execution_count": 2,
   "metadata": {},
   "outputs": [],
   "source": [
    "gateway_url = os.environ.get(\"DASK_GATEWAY_ADDRESS\")\n",
    "\n",
    "gateway = Gateway(gateway_url)\n",
    "\n",
    "cluster_options = gateway.cluster_options()\n"
   ]
  },
  {
   "cell_type": "code",
   "execution_count": 3,
   "metadata": {},
   "outputs": [],
   "source": [
    "image = \"cr.terradue.com/earthquake-monitoring/cloudless-mosaic@sha256:e1847451515fac65e7da49e041bdcfbeab6154dd35d4a5a21852c3b0f98c9ecf\"\n",
    "worker_cores = 0.5\n",
    "worker_cores_limit = 5\n",
    "worker_memory = 2\n",
    "\n",
    "cluster_options['image'] = image\n",
    "cluster_options['worker_cores'] = worker_cores\n",
    "cluster_options['worker_cores_limit'] = worker_cores_limit\n",
    "cluster_options['worker_memory'] = f\"{worker_memory} G\""
   ]
  },
  {
   "cell_type": "code",
   "execution_count": 4,
   "metadata": {},
   "outputs": [],
   "source": [
    "cluster = gateway.new_cluster(cluster_options)"
   ]
  },
  {
   "cell_type": "code",
   "execution_count": 5,
   "metadata": {},
   "outputs": [
    {
     "data": {
      "text/plain": [
       "'eoap-dask-gateway.8ccf57084369480a85bf18f4c924c335'"
      ]
     },
     "execution_count": 5,
     "metadata": {},
     "output_type": "execute_result"
    }
   ],
   "source": [
    "cluster.name"
   ]
  },
  {
   "cell_type": "code",
   "execution_count": 6,
   "metadata": {},
   "outputs": [
    {
     "data": {
      "text/plain": [
       "'http://traefik-dask-gateway.eoap-dask-gateway.svc.cluster.local:80/clusters/eoap-dask-gateway.8ccf57084369480a85bf18f4c924c335/status'"
      ]
     },
     "execution_count": 6,
     "metadata": {},
     "output_type": "execute_result"
    }
   ],
   "source": [
    "cluster.dashboard_link"
   ]
  },
  {
   "cell_type": "code",
   "execution_count": 7,
   "metadata": {},
   "outputs": [
    {
     "name": "stderr",
     "output_type": "stream",
     "text": [
      "/workspace/.local/share/hatch/env/virtual/cloudless-mosaic/O0Nz_lkb/dev/lib/python3.10/site-packages/distributed/client.py:1391: VersionMismatchWarning: Mismatched versions found\n",
      "\n",
      "+---------+-----------------+-----------------+---------+\n",
      "| Package | Client          | Scheduler       | Workers |\n",
      "+---------+-----------------+-----------------+---------+\n",
      "| python  | 3.10.12.final.0 | 3.10.16.final.0 | None    |\n",
      "+---------+-----------------+-----------------+---------+\n",
      "  warnings.warn(version_module.VersionMismatchWarning(msg[0][\"warning\"]))\n"
     ]
    }
   ],
   "source": [
    "\n",
    "client = cluster.get_client()\n",
    "\n",
    "cluster.adapt(minimum=4, maximum=24)"
   ]
  },
  {
   "cell_type": "code",
   "execution_count": 10,
   "metadata": {},
   "outputs": [
    {
     "name": "stderr",
     "output_type": "stream",
     "text": [
      "\u001b[32m2025-03-10 16:45:21.517\u001b[0m | \u001b[1mINFO    \u001b[0m | \u001b[36mcloudless_mosaic.app\u001b[0m:\u001b[36mmain\u001b[0m:\u001b[36m128\u001b[0m - \u001b[1mArea of interest: -122.27508544921875,47.54687159892238,-121.96128845214844,47.745787772920934\u001b[0m\n",
      "\u001b[32m2025-03-10 16:45:21.520\u001b[0m | \u001b[1mINFO    \u001b[0m | \u001b[36mcloudless_mosaic.app\u001b[0m:\u001b[36mmain\u001b[0m:\u001b[36m129\u001b[0m - \u001b[1mTime of interest: 2020-10-01 to 2020-12-31\u001b[0m\n",
      "\u001b[32m2025-03-10 16:45:21.798\u001b[0m | \u001b[1mINFO    \u001b[0m | \u001b[36mcloudless_mosaic.app\u001b[0m:\u001b[36mget_item_collection\u001b[0m:\u001b[36m119\u001b[0m - \u001b[1mFetched page with 6 items\u001b[0m\n",
      "\u001b[32m2025-03-10 16:45:32.013\u001b[0m | \u001b[1mINFO    \u001b[0m | \u001b[36mcloudless_mosaic.app\u001b[0m:\u001b[36mmain\u001b[0m:\u001b[36m133\u001b[0m - \u001b[1mFound 6 items\u001b[0m\n",
      "\u001b[32m2025-03-10 16:45:32.016\u001b[0m | \u001b[1mINFO    \u001b[0m | \u001b[36mcloudless_mosaic.app\u001b[0m:\u001b[36mmain\u001b[0m:\u001b[36m137\u001b[0m - \u001b[1mfound epsg code: 32610\u001b[0m\n",
      "\u001b[32m2025-03-10 16:45:32.018\u001b[0m | \u001b[1mINFO    \u001b[0m | \u001b[36mcloudless_mosaic.app\u001b[0m:\u001b[36mmain\u001b[0m:\u001b[36m139\u001b[0m - \u001b[1mUsing bands: ['nir', 'red', 'green']\u001b[0m\n",
      "\u001b[32m2025-03-10 16:45:32.329\u001b[0m | \u001b[1mINFO    \u001b[0m | \u001b[36mcloudless_mosaic.app\u001b[0m:\u001b[36mmain\u001b[0m:\u001b[36m142\u001b[0m - \u001b[1mbands mapped to asset keys: B08 B04 B03\u001b[0m\n",
      "\u001b[32m2025-03-10 16:45:32.382\u001b[0m | \u001b[1mINFO    \u001b[0m | \u001b[36mcloudless_mosaic.app\u001b[0m:\u001b[36mmain\u001b[0m:\u001b[36m157\u001b[0m - \u001b[1mUsing chunk size: ((6,), (3,), (512, 512, 95), (512, 512, 96)) for (6, 3, 1119, 1120)\u001b[0m\n",
      "\u001b[32m2025-03-10 16:46:08.850\u001b[0m | \u001b[1mINFO    \u001b[0m | \u001b[36mcloudless_mosaic.app\u001b[0m:\u001b[36mmain\u001b[0m:\u001b[36m180\u001b[0m - \u001b[1m{'2020-10': (Timestamp('2020-10-02 19:12:29.024000'), Timestamp('2020-10-02 19:12:29.024000')), '2020-11': (Timestamp('2020-11-01 19:15:39.024000'), Timestamp('2020-11-21 19:17:19.024000')), '2020-12': (Timestamp('2020-12-01 19:17:49.024000'), Timestamp('2020-12-28 19:08:09.024000'))}\u001b[0m\n",
      "\u001b[32m2025-03-10 16:46:10.318\u001b[0m | \u001b[1mINFO    \u001b[0m | \u001b[36mcloudless_mosaic.app\u001b[0m:\u001b[36mmain\u001b[0m:\u001b[36m194\u001b[0m - \u001b[1mProcessing mosaic for 2020-10: 2020-10-02 19:12:29.024000 - 2020-10-02 19:12:29.024000\u001b[0m\n",
      "\u001b[32m2025-03-10 16:46:11.475\u001b[0m | \u001b[1mINFO    \u001b[0m | \u001b[36mcloudless_mosaic.app\u001b[0m:\u001b[36mmain\u001b[0m:\u001b[36m213\u001b[0m - \u001b[1mSaved monthly mosaic: monthly-mosaic-2020-10/monthly-mosaic-2020-10.tif\u001b[0m\n",
      "\u001b[32m2025-03-10 16:46:11.562\u001b[0m | \u001b[1mINFO    \u001b[0m | \u001b[36mcloudless_mosaic.app\u001b[0m:\u001b[36mmain\u001b[0m:\u001b[36m194\u001b[0m - \u001b[1mProcessing mosaic for 2020-11: 2020-11-01 19:15:39.024000 - 2020-11-21 19:17:19.024000\u001b[0m\n",
      "\u001b[32m2025-03-10 16:46:12.634\u001b[0m | \u001b[1mINFO    \u001b[0m | \u001b[36mcloudless_mosaic.app\u001b[0m:\u001b[36mmain\u001b[0m:\u001b[36m213\u001b[0m - \u001b[1mSaved monthly mosaic: monthly-mosaic-2020-11/monthly-mosaic-2020-11.tif\u001b[0m\n",
      "\u001b[32m2025-03-10 16:46:12.721\u001b[0m | \u001b[1mINFO    \u001b[0m | \u001b[36mcloudless_mosaic.app\u001b[0m:\u001b[36mmain\u001b[0m:\u001b[36m194\u001b[0m - \u001b[1mProcessing mosaic for 2020-12: 2020-12-01 19:17:49.024000 - 2020-12-28 19:08:09.024000\u001b[0m\n",
      "\u001b[32m2025-03-10 16:46:13.642\u001b[0m | \u001b[1mINFO    \u001b[0m | \u001b[36mcloudless_mosaic.app\u001b[0m:\u001b[36mmain\u001b[0m:\u001b[36m213\u001b[0m - \u001b[1mSaved monthly mosaic: monthly-mosaic-2020-12/monthly-mosaic-2020-12.tif\u001b[0m\n"
     ]
    }
   ],
   "source": [
    "params = {\n",
    "    \"start_date\": \"2020-10-01\", \n",
    "    \"end_date\": \"2020-12-31\",\n",
    "    \"aoi\": \"-122.27508544921875,47.54687159892238,-121.96128845214844,47.745787772920934\",\n",
    "    \"bands\": [\"nir\", \"red\", \"green\"],\n",
    "    \"collection\": \"sentinel-2-l2a\",\n",
    "    \"resolution\": 100,\n",
    "    \"max_items\": 1000, \n",
    "    \"max_cloud_cover\": 25\n",
    "}\n",
    "\n",
    "main(**params)"
   ]
  },
  {
   "cell_type": "code",
   "execution_count": 11,
   "metadata": {},
   "outputs": [],
   "source": [
    "cluster.shutdown()"
   ]
  },
  {
   "cell_type": "code",
   "execution_count": null,
   "metadata": {},
   "outputs": [],
   "source": []
  }
 ],
 "metadata": {
  "kernelspec": {
   "display_name": "dev",
   "language": "python",
   "name": "python3"
  },
  "language_info": {
   "codemirror_mode": {
    "name": "ipython",
    "version": 3
   },
   "file_extension": ".py",
   "mimetype": "text/x-python",
   "name": "python",
   "nbconvert_exporter": "python",
   "pygments_lexer": "ipython3",
   "version": "3.10.12"
  }
 },
 "nbformat": 4,
 "nbformat_minor": 2
}
